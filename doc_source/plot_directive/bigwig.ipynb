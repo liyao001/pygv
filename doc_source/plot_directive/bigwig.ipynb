{
  "cells": [
    {
      "cell_type": "code",
      "execution_count": null,
      "metadata": {
        "collapsed": false
      },
      "outputs": [],
      "source": [
        "%matplotlib inline"
      ]
    },
    {
      "cell_type": "markdown",
      "metadata": {},
      "source": [
        "\n# BigWig Track\n\nCreate a simple BigWig Track.\n"
      ]
    },
    {
      "cell_type": "code",
      "execution_count": null,
      "metadata": {
        "collapsed": false
      },
      "outputs": [],
      "source": [
        "from pygv.viewer import GenomeViewer\nfrom pygv.tracks.bigwig_track import BigWigTrack\ngv = GenomeViewer()\ntrack = BigWigTrack(\n    \"../examples/data/K562_DNase_ENCFF530BKH.chr1.bw\",\n    name=\"DNase\", )\ngv.add_track(track)\ngv.plot(\"chr1\", 73917, 78917)"
      ]
    }
  ],
  "metadata": {
    "kernelspec": {
      "display_name": "Python 3",
      "language": "python",
      "name": "python3"
    },
    "language_info": {
      "codemirror_mode": {
        "name": "ipython",
        "version": 3
      },
      "file_extension": ".py",
      "mimetype": "text/x-python",
      "name": "python",
      "nbconvert_exporter": "python",
      "pygments_lexer": "ipython3",
      "version": "3.9.6"
    }
  },
  "nbformat": 4,
  "nbformat_minor": 0
}